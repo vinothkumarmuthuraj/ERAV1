{
 "cells": [
  {
   "cell_type": "code",
   "execution_count": 1,
   "id": "f6ef9014",
   "metadata": {},
   "outputs": [],
   "source": [
    "import torch\n",
    "import torch.nn as nn\n",
    "import torch.nn.functional as F\n",
    "import torch.optim as optim\n",
    "from torchvision import datasets\n",
    "import matplotlib.pyplot as plt\n",
    "import torchvision\n",
    "from torchscan import summary"
   ]
  },
  {
   "cell_type": "code",
   "execution_count": 2,
   "id": "e25b7ddd",
   "metadata": {},
   "outputs": [],
   "source": [
    "from utils import dataloader, plot_sample_data, train_transforms, test_transforms, trainer, evaluate_model\n",
    "from models import Net"
   ]
  },
  {
   "cell_type": "code",
   "execution_count": 3,
   "id": "4d91c075",
   "metadata": {},
   "outputs": [
    {
     "name": "stdout",
     "output_type": "stream",
     "text": [
      "Files already downloaded and verified\n",
      "Files already downloaded and verified\n"
     ]
    }
   ],
   "source": [
    "data_path = r\"C:\\Users\\vmt8kor\\Desktop\\vinoth_documents\\vinoth_documents1\\python_files\\School_AI\\30th_June_2023\\data\"\n",
    "batch_size = 128\n",
    "\n",
    "trainloader,testloader, classes = dataloader(data_path, batch_size, train_transforms,test_transforms)"
   ]
  },
  {
   "cell_type": "code",
   "execution_count": null,
   "id": "3db9ce7b",
   "metadata": {},
   "outputs": [],
   "source": [
    "batch_data, batch_label = next(iter(testloader))\n",
    "plot_sample_data(testloader)"
   ]
  },
  {
   "cell_type": "code",
   "execution_count": 3,
   "id": "a6c1cf56",
   "metadata": {},
   "outputs": [],
   "source": [
    "device = torch.device('cuda:0' if torch.cuda.is_available() else 'cpu')\n",
    "model = Net().to(device)"
   ]
  },
  {
   "cell_type": "code",
   "execution_count": 8,
   "id": "8b62aa86",
   "metadata": {
    "scrolled": false
   },
   "outputs": [
    {
     "name": "stdout",
     "output_type": "stream",
     "text": [
      "________________________________________________________________________________________________\n",
      "Layer                         Type               Output Shape         Param #    Receptive field\n",
      "================================================================================================\n",
      "net                           Net                (-1, 10)             0          1              \n",
      "├─conv_block1                 Conv_block         (-1, 128, 28, 28)    0          1              \n",
      "|    └─normal_conv            norm_conv_fn       (-1, 32, 32, 32)     993        3              \n",
      "|    └─depthwise_sep_conv2    SeparableConv2D    (-1, 64, 32, 32)     2,818      5              \n",
      "|    └─depthwise_sep_conv3    SeparableConv2D    (-1, 128, 28, 28)    14,274     11             \n",
      "├─conv_block2                 Conv_block         (-1, 128, 22, 22)    0          11             \n",
      "|    └─depthwise_sep_conv1    SeparableConv2D    (-1, 32, 26, 26)     6,050      15             \n",
      "|    └─depthwise_sep_conv2    SeparableConv2D    (-1, 64, 26, 26)     2,818      17             \n",
      "|    └─depthwise_sep_conv3    SeparableConv2D    (-1, 128, 22, 22)    14,274     23             \n",
      "├─conv_block3                 Conv_block         (-1, 128, 16, 16)    0          23             \n",
      "|    └─depthwise_sep_conv1    SeparableConv2D    (-1, 32, 20, 20)     6,050      27             \n",
      "|    └─depthwise_sep_conv2    SeparableConv2D    (-1, 64, 20, 20)     2,818      29             \n",
      "|    └─depthwise_sep_conv3    SeparableConv2D    (-1, 128, 16, 16)    14,274     35             \n",
      "├─conv_block4                 Conv_block         (-1, 64, 10, 10)     0          35             \n",
      "|    └─depthwise_sep_conv1    SeparableConv2D    (-1, 32, 14, 14)     6,050      39             \n",
      "|    └─depthwise_sep_conv2    SeparableConv2D    (-1, 64, 14, 14)     2,818      41             \n",
      "|    └─depthwise_sep_conv3    SeparableConv2D    (-1, 64, 10, 10)     7,810      47             \n",
      "├─avg_pool                    AvgPool2d          (-1, 64, 1, 1)       0          56             \n",
      "├─fc1                         Linear             (-1, 32)             2,080      56             \n",
      "├─fc2                         Linear             (-1, 10)             330        56             \n",
      "================================================================================================\n",
      "Trainable params: 190,990\n",
      "Non-trainable params: 0\n",
      "Total params: 190,990\n",
      "------------------------------------------------------------------------------------------------\n",
      "Model size (params + buffers): 0.74 Mb\n",
      "Framework & CUDA overhead: 0.00 Mb\n",
      "Total RAM usage: 0.74 Mb\n",
      "------------------------------------------------------------------------------------------------\n",
      "Floating Point Operations on forward: 75.43 MFLOPs\n",
      "Multiply-Accumulations on forward: 37.75 MMACs\n",
      "Direct memory accesses on forward: 39.39 MDMAs\n",
      "________________________________________________________________________________________________\n"
     ]
    }
   ],
   "source": [
    "summary(model, (3, 32, 32), receptive_field=True, max_depth=2)"
   ]
  },
  {
   "cell_type": "code",
   "execution_count": 5,
   "id": "5634fa2d",
   "metadata": {
    "scrolled": false
   },
   "outputs": [
    {
     "name": "stdout",
     "output_type": "stream",
     "text": [
      "Epoch 1\n"
     ]
    },
    {
     "name": "stderr",
     "output_type": "stream",
     "text": [
      "Train: Loss=1.6032 Batch_id=390 Accuracy=29.24: 100%|████████████████████████████████| 391/391 [00:36<00:00, 10.67it/s]\n"
     ]
    },
    {
     "name": "stdout",
     "output_type": "stream",
     "text": [
      "Test set: Average loss: 1.7729, Accuracy: 3752/10000 (37.52%)\n",
      "\n",
      "Epoch 2\n"
     ]
    },
    {
     "name": "stderr",
     "output_type": "stream",
     "text": [
      "Train: Loss=1.4918 Batch_id=390 Accuracy=44.82: 100%|████████████████████████████████| 391/391 [00:35<00:00, 11.06it/s]\n"
     ]
    },
    {
     "name": "stdout",
     "output_type": "stream",
     "text": [
      "Test set: Average loss: 1.4426, Accuracy: 4991/10000 (49.91%)\n",
      "\n",
      "Epoch 3\n"
     ]
    },
    {
     "name": "stderr",
     "output_type": "stream",
     "text": [
      "Train: Loss=1.2929 Batch_id=390 Accuracy=51.35: 100%|████████████████████████████████| 391/391 [00:38<00:00, 10.26it/s]\n"
     ]
    },
    {
     "name": "stdout",
     "output_type": "stream",
     "text": [
      "Test set: Average loss: 1.4042, Accuracy: 5187/10000 (51.87%)\n",
      "\n",
      "Epoch 4\n"
     ]
    },
    {
     "name": "stderr",
     "output_type": "stream",
     "text": [
      "Train: Loss=1.0129 Batch_id=390 Accuracy=54.96: 100%|████████████████████████████████| 391/391 [00:39<00:00,  9.78it/s]\n"
     ]
    },
    {
     "name": "stdout",
     "output_type": "stream",
     "text": [
      "Test set: Average loss: 1.1372, Accuracy: 6158/10000 (61.58%)\n",
      "\n",
      "Epoch 5\n"
     ]
    },
    {
     "name": "stderr",
     "output_type": "stream",
     "text": [
      "Train: Loss=1.0581 Batch_id=390 Accuracy=57.63: 100%|████████████████████████████████| 391/391 [00:40<00:00,  9.59it/s]\n"
     ]
    },
    {
     "name": "stdout",
     "output_type": "stream",
     "text": [
      "Test set: Average loss: 1.1728, Accuracy: 5969/10000 (59.69%)\n",
      "\n",
      "Epoch 6\n"
     ]
    },
    {
     "name": "stderr",
     "output_type": "stream",
     "text": [
      "Train: Loss=0.8757 Batch_id=390 Accuracy=59.93: 100%|████████████████████████████████| 391/391 [00:40<00:00,  9.59it/s]\n"
     ]
    },
    {
     "name": "stdout",
     "output_type": "stream",
     "text": [
      "Test set: Average loss: 1.0288, Accuracy: 6515/10000 (65.15%)\n",
      "\n",
      "Epoch 7\n"
     ]
    },
    {
     "name": "stderr",
     "output_type": "stream",
     "text": [
      "Train: Loss=1.1801 Batch_id=390 Accuracy=61.34: 100%|████████████████████████████████| 391/391 [00:41<00:00,  9.33it/s]\n"
     ]
    },
    {
     "name": "stdout",
     "output_type": "stream",
     "text": [
      "Test set: Average loss: 0.9016, Accuracy: 6843/10000 (68.43%)\n",
      "\n",
      "Epoch 8\n"
     ]
    },
    {
     "name": "stderr",
     "output_type": "stream",
     "text": [
      "Train: Loss=1.0080 Batch_id=390 Accuracy=63.29: 100%|████████████████████████████████| 391/391 [00:42<00:00,  9.16it/s]\n"
     ]
    },
    {
     "name": "stdout",
     "output_type": "stream",
     "text": [
      "Test set: Average loss: 0.9991, Accuracy: 6615/10000 (66.15%)\n",
      "\n",
      "Epoch 9\n"
     ]
    },
    {
     "name": "stderr",
     "output_type": "stream",
     "text": [
      "Train: Loss=1.0700 Batch_id=390 Accuracy=64.22: 100%|████████████████████████████████| 391/391 [00:42<00:00,  9.15it/s]\n"
     ]
    },
    {
     "name": "stdout",
     "output_type": "stream",
     "text": [
      "Test set: Average loss: 1.0136, Accuracy: 6619/10000 (66.19%)\n",
      "\n",
      "Epoch 10\n"
     ]
    },
    {
     "name": "stderr",
     "output_type": "stream",
     "text": [
      "Train: Loss=1.0727 Batch_id=390 Accuracy=65.33: 100%|████████████████████████████████| 391/391 [00:42<00:00,  9.19it/s]\n"
     ]
    },
    {
     "name": "stdout",
     "output_type": "stream",
     "text": [
      "Test set: Average loss: 0.9383, Accuracy: 6847/10000 (68.47%)\n",
      "\n",
      "Epoch 11\n"
     ]
    },
    {
     "name": "stderr",
     "output_type": "stream",
     "text": [
      "Train: Loss=1.2084 Batch_id=390 Accuracy=66.44: 100%|████████████████████████████████| 391/391 [00:42<00:00,  9.20it/s]\n"
     ]
    },
    {
     "name": "stdout",
     "output_type": "stream",
     "text": [
      "Test set: Average loss: 0.8374, Accuracy: 7179/10000 (71.79%)\n",
      "\n",
      "Epoch 12\n"
     ]
    },
    {
     "name": "stderr",
     "output_type": "stream",
     "text": [
      "Train: Loss=1.0094 Batch_id=390 Accuracy=67.22: 100%|████████████████████████████████| 391/391 [00:38<00:00, 10.20it/s]\n"
     ]
    },
    {
     "name": "stdout",
     "output_type": "stream",
     "text": [
      "Test set: Average loss: 0.8209, Accuracy: 7252/10000 (72.52%)\n",
      "\n",
      "Epoch 13\n"
     ]
    },
    {
     "name": "stderr",
     "output_type": "stream",
     "text": [
      "Train: Loss=0.9902 Batch_id=390 Accuracy=68.01: 100%|████████████████████████████████| 391/391 [00:36<00:00, 10.59it/s]\n"
     ]
    },
    {
     "name": "stdout",
     "output_type": "stream",
     "text": [
      "Test set: Average loss: 0.7621, Accuracy: 7425/10000 (74.25%)\n",
      "\n",
      "Epoch 14\n"
     ]
    },
    {
     "name": "stderr",
     "output_type": "stream",
     "text": [
      "Train: Loss=0.8398 Batch_id=390 Accuracy=68.81: 100%|████████████████████████████████| 391/391 [00:36<00:00, 10.60it/s]\n"
     ]
    },
    {
     "name": "stdout",
     "output_type": "stream",
     "text": [
      "Test set: Average loss: 0.7866, Accuracy: 7367/10000 (73.67%)\n",
      "\n",
      "Epoch 15\n"
     ]
    },
    {
     "name": "stderr",
     "output_type": "stream",
     "text": [
      "Train: Loss=0.8854 Batch_id=390 Accuracy=69.35: 100%|████████████████████████████████| 391/391 [00:37<00:00, 10.55it/s]\n"
     ]
    },
    {
     "name": "stdout",
     "output_type": "stream",
     "text": [
      "Test set: Average loss: 0.7409, Accuracy: 7497/10000 (74.97%)\n",
      "\n",
      "Epoch 16\n"
     ]
    },
    {
     "name": "stderr",
     "output_type": "stream",
     "text": [
      "Train: Loss=0.9722 Batch_id=390 Accuracy=69.98: 100%|████████████████████████████████| 391/391 [00:36<00:00, 10.64it/s]\n"
     ]
    },
    {
     "name": "stdout",
     "output_type": "stream",
     "text": [
      "Test set: Average loss: 0.7697, Accuracy: 7414/10000 (74.14%)\n",
      "\n",
      "Epoch 17\n"
     ]
    },
    {
     "name": "stderr",
     "output_type": "stream",
     "text": [
      "Train: Loss=0.8988 Batch_id=390 Accuracy=70.27: 100%|████████████████████████████████| 391/391 [00:36<00:00, 10.66it/s]\n"
     ]
    },
    {
     "name": "stdout",
     "output_type": "stream",
     "text": [
      "Test set: Average loss: 0.7475, Accuracy: 7485/10000 (74.85%)\n",
      "\n",
      "Epoch 18\n"
     ]
    },
    {
     "name": "stderr",
     "output_type": "stream",
     "text": [
      "Train: Loss=0.7747 Batch_id=390 Accuracy=70.49: 100%|████████████████████████████████| 391/391 [00:36<00:00, 10.72it/s]\n"
     ]
    },
    {
     "name": "stdout",
     "output_type": "stream",
     "text": [
      "Test set: Average loss: 0.7773, Accuracy: 7465/10000 (74.65%)\n",
      "\n",
      "Epoch 19\n"
     ]
    },
    {
     "name": "stderr",
     "output_type": "stream",
     "text": [
      "Train: Loss=0.6802 Batch_id=390 Accuracy=71.01: 100%|████████████████████████████████| 391/391 [00:36<00:00, 10.66it/s]\n"
     ]
    },
    {
     "name": "stdout",
     "output_type": "stream",
     "text": [
      "Test set: Average loss: 0.7229, Accuracy: 7646/10000 (76.46%)\n",
      "\n",
      "Epoch 20\n"
     ]
    },
    {
     "name": "stderr",
     "output_type": "stream",
     "text": [
      "Train: Loss=0.7102 Batch_id=390 Accuracy=71.21: 100%|████████████████████████████████| 391/391 [00:36<00:00, 10.70it/s]\n"
     ]
    },
    {
     "name": "stdout",
     "output_type": "stream",
     "text": [
      "Test set: Average loss: 0.7351, Accuracy: 7579/10000 (75.79%)\n",
      "\n",
      "Epoch 21\n"
     ]
    },
    {
     "name": "stderr",
     "output_type": "stream",
     "text": [
      "Train: Loss=0.7808 Batch_id=390 Accuracy=71.95: 100%|████████████████████████████████| 391/391 [00:36<00:00, 10.71it/s]\n"
     ]
    },
    {
     "name": "stdout",
     "output_type": "stream",
     "text": [
      "Test set: Average loss: 0.7439, Accuracy: 7537/10000 (75.37%)\n",
      "\n",
      "Epoch 22\n"
     ]
    },
    {
     "name": "stderr",
     "output_type": "stream",
     "text": [
      "Train: Loss=0.7975 Batch_id=390 Accuracy=72.04: 100%|████████████████████████████████| 391/391 [00:36<00:00, 10.72it/s]\n"
     ]
    },
    {
     "name": "stdout",
     "output_type": "stream",
     "text": [
      "Test set: Average loss: 0.8167, Accuracy: 7363/10000 (73.63%)\n",
      "\n",
      "Epoch 23\n"
     ]
    },
    {
     "name": "stderr",
     "output_type": "stream",
     "text": [
      "Train: Loss=0.7774 Batch_id=390 Accuracy=72.02: 100%|████████████████████████████████| 391/391 [00:36<00:00, 10.68it/s]\n"
     ]
    },
    {
     "name": "stdout",
     "output_type": "stream",
     "text": [
      "Test set: Average loss: 0.6367, Accuracy: 7900/10000 (79.00%)\n",
      "\n",
      "Epoch 24\n"
     ]
    },
    {
     "name": "stderr",
     "output_type": "stream",
     "text": [
      "Train: Loss=0.7702 Batch_id=390 Accuracy=72.72: 100%|████████████████████████████████| 391/391 [00:36<00:00, 10.69it/s]\n"
     ]
    },
    {
     "name": "stdout",
     "output_type": "stream",
     "text": [
      "Test set: Average loss: 0.6787, Accuracy: 7756/10000 (77.56%)\n",
      "\n",
      "Epoch 25\n"
     ]
    },
    {
     "name": "stderr",
     "output_type": "stream",
     "text": [
      "Train: Loss=0.7220 Batch_id=390 Accuracy=73.40: 100%|████████████████████████████████| 391/391 [00:36<00:00, 10.73it/s]\n"
     ]
    },
    {
     "name": "stdout",
     "output_type": "stream",
     "text": [
      "Test set: Average loss: 0.7080, Accuracy: 7656/10000 (76.56%)\n",
      "\n",
      "Epoch 26\n"
     ]
    },
    {
     "name": "stderr",
     "output_type": "stream",
     "text": [
      "Train: Loss=0.9234 Batch_id=390 Accuracy=73.34: 100%|████████████████████████████████| 391/391 [00:36<00:00, 10.77it/s]\n"
     ]
    },
    {
     "name": "stdout",
     "output_type": "stream",
     "text": [
      "Test set: Average loss: 0.6848, Accuracy: 7785/10000 (77.85%)\n",
      "\n",
      "Epoch 27\n"
     ]
    },
    {
     "name": "stderr",
     "output_type": "stream",
     "text": [
      "Train: Loss=0.8208 Batch_id=390 Accuracy=73.30: 100%|████████████████████████████████| 391/391 [00:36<00:00, 10.76it/s]\n"
     ]
    },
    {
     "name": "stdout",
     "output_type": "stream",
     "text": [
      "Test set: Average loss: 0.6964, Accuracy: 7711/10000 (77.11%)\n",
      "\n",
      "Epoch 28\n"
     ]
    },
    {
     "name": "stderr",
     "output_type": "stream",
     "text": [
      "Train: Loss=0.7706 Batch_id=390 Accuracy=73.69: 100%|████████████████████████████████| 391/391 [00:36<00:00, 10.73it/s]\n"
     ]
    },
    {
     "name": "stdout",
     "output_type": "stream",
     "text": [
      "Test set: Average loss: 0.5903, Accuracy: 8085/10000 (80.85%)\n",
      "\n",
      "Epoch 29\n"
     ]
    },
    {
     "name": "stderr",
     "output_type": "stream",
     "text": [
      "Train: Loss=0.7761 Batch_id=390 Accuracy=73.87: 100%|████████████████████████████████| 391/391 [00:36<00:00, 10.84it/s]\n"
     ]
    },
    {
     "name": "stdout",
     "output_type": "stream",
     "text": [
      "Test set: Average loss: 0.6458, Accuracy: 7919/10000 (79.19%)\n",
      "\n",
      "Epoch 30\n"
     ]
    },
    {
     "name": "stderr",
     "output_type": "stream",
     "text": [
      "Train: Loss=0.5988 Batch_id=390 Accuracy=74.16: 100%|████████████████████████████████| 391/391 [00:36<00:00, 10.74it/s]\n"
     ]
    },
    {
     "name": "stdout",
     "output_type": "stream",
     "text": [
      "Test set: Average loss: 0.5802, Accuracy: 8072/10000 (80.72%)\n",
      "\n",
      "Epoch 31\n"
     ]
    },
    {
     "name": "stderr",
     "output_type": "stream",
     "text": [
      "Train: Loss=0.8964 Batch_id=390 Accuracy=74.43: 100%|████████████████████████████████| 391/391 [00:36<00:00, 10.74it/s]\n"
     ]
    },
    {
     "name": "stdout",
     "output_type": "stream",
     "text": [
      "Test set: Average loss: 0.6757, Accuracy: 7835/10000 (78.35%)\n",
      "\n",
      "Epoch 32\n"
     ]
    },
    {
     "name": "stderr",
     "output_type": "stream",
     "text": [
      "Train: Loss=0.6101 Batch_id=390 Accuracy=74.39: 100%|████████████████████████████████| 391/391 [00:36<00:00, 10.80it/s]\n"
     ]
    },
    {
     "name": "stdout",
     "output_type": "stream",
     "text": [
      "Test set: Average loss: 0.5899, Accuracy: 8047/10000 (80.47%)\n",
      "\n",
      "Epoch 33\n"
     ]
    },
    {
     "name": "stderr",
     "output_type": "stream",
     "text": [
      "Train: Loss=0.8547 Batch_id=390 Accuracy=74.48: 100%|████████████████████████████████| 391/391 [00:36<00:00, 10.75it/s]\n"
     ]
    },
    {
     "name": "stdout",
     "output_type": "stream",
     "text": [
      "Test set: Average loss: 0.5736, Accuracy: 8111/10000 (81.11%)\n",
      "\n",
      "Epoch 34\n"
     ]
    },
    {
     "name": "stderr",
     "output_type": "stream",
     "text": [
      "Train: Loss=0.5890 Batch_id=390 Accuracy=74.62: 100%|████████████████████████████████| 391/391 [00:36<00:00, 10.81it/s]\n"
     ]
    },
    {
     "name": "stdout",
     "output_type": "stream",
     "text": [
      "Test set: Average loss: 0.6425, Accuracy: 7926/10000 (79.26%)\n",
      "\n",
      "Epoch 35\n"
     ]
    },
    {
     "name": "stderr",
     "output_type": "stream",
     "text": [
      "Train: Loss=0.6243 Batch_id=390 Accuracy=74.99: 100%|████████████████████████████████| 391/391 [00:36<00:00, 10.77it/s]\n"
     ]
    },
    {
     "name": "stdout",
     "output_type": "stream",
     "text": [
      "Test set: Average loss: 0.6244, Accuracy: 7968/10000 (79.68%)\n",
      "\n",
      "Epoch 36\n"
     ]
    },
    {
     "name": "stderr",
     "output_type": "stream",
     "text": [
      "Train: Loss=0.7056 Batch_id=390 Accuracy=75.11: 100%|████████████████████████████████| 391/391 [00:36<00:00, 10.77it/s]\n"
     ]
    },
    {
     "name": "stdout",
     "output_type": "stream",
     "text": [
      "Test set: Average loss: 0.5748, Accuracy: 8095/10000 (80.95%)\n",
      "\n",
      "Epoch 37\n"
     ]
    },
    {
     "name": "stderr",
     "output_type": "stream",
     "text": [
      "Train: Loss=0.6487 Batch_id=390 Accuracy=75.10: 100%|████████████████████████████████| 391/391 [00:36<00:00, 10.76it/s]\n"
     ]
    },
    {
     "name": "stdout",
     "output_type": "stream",
     "text": [
      "Test set: Average loss: 0.5269, Accuracy: 8239/10000 (82.39%)\n",
      "\n",
      "Epoch 38\n"
     ]
    },
    {
     "name": "stderr",
     "output_type": "stream",
     "text": [
      "Train: Loss=0.8539 Batch_id=390 Accuracy=75.74: 100%|████████████████████████████████| 391/391 [00:36<00:00, 10.81it/s]\n"
     ]
    },
    {
     "name": "stdout",
     "output_type": "stream",
     "text": [
      "Test set: Average loss: 0.5841, Accuracy: 8123/10000 (81.23%)\n",
      "\n",
      "Epoch 39\n"
     ]
    },
    {
     "name": "stderr",
     "output_type": "stream",
     "text": [
      "Train: Loss=1.0523 Batch_id=390 Accuracy=75.89: 100%|████████████████████████████████| 391/391 [00:36<00:00, 10.76it/s]\n"
     ]
    },
    {
     "name": "stdout",
     "output_type": "stream",
     "text": [
      "Test set: Average loss: 0.6790, Accuracy: 7860/10000 (78.60%)\n",
      "\n",
      "Epoch 40\n"
     ]
    },
    {
     "name": "stderr",
     "output_type": "stream",
     "text": [
      "Train: Loss=0.9605 Batch_id=390 Accuracy=75.81: 100%|████████████████████████████████| 391/391 [00:36<00:00, 10.82it/s]\n"
     ]
    },
    {
     "name": "stdout",
     "output_type": "stream",
     "text": [
      "Test set: Average loss: 0.5649, Accuracy: 8154/10000 (81.54%)\n",
      "\n",
      "Epoch 41\n"
     ]
    },
    {
     "name": "stderr",
     "output_type": "stream",
     "text": [
      "Train: Loss=0.6278 Batch_id=390 Accuracy=76.11: 100%|████████████████████████████████| 391/391 [00:36<00:00, 10.76it/s]\n"
     ]
    },
    {
     "name": "stdout",
     "output_type": "stream",
     "text": [
      "Test set: Average loss: 0.5420, Accuracy: 8225/10000 (82.25%)\n",
      "\n",
      "Epoch 42\n"
     ]
    },
    {
     "name": "stderr",
     "output_type": "stream",
     "text": [
      "Train: Loss=0.4748 Batch_id=390 Accuracy=75.72: 100%|████████████████████████████████| 391/391 [00:36<00:00, 10.82it/s]\n"
     ]
    },
    {
     "name": "stdout",
     "output_type": "stream",
     "text": [
      "Test set: Average loss: 0.5958, Accuracy: 8048/10000 (80.48%)\n",
      "\n",
      "Epoch 43\n"
     ]
    },
    {
     "name": "stderr",
     "output_type": "stream",
     "text": [
      "Train: Loss=0.5824 Batch_id=390 Accuracy=75.81: 100%|████████████████████████████████| 391/391 [00:36<00:00, 10.78it/s]\n"
     ]
    },
    {
     "name": "stdout",
     "output_type": "stream",
     "text": [
      "Test set: Average loss: 0.6258, Accuracy: 7996/10000 (79.96%)\n",
      "\n",
      "Epoch 44\n"
     ]
    },
    {
     "name": "stderr",
     "output_type": "stream",
     "text": [
      "Train: Loss=0.6344 Batch_id=390 Accuracy=75.82: 100%|████████████████████████████████| 391/391 [00:36<00:00, 10.71it/s]\n"
     ]
    },
    {
     "name": "stdout",
     "output_type": "stream",
     "text": [
      "Test set: Average loss: 0.5160, Accuracy: 8292/10000 (82.92%)\n",
      "\n",
      "Epoch 45\n"
     ]
    },
    {
     "name": "stderr",
     "output_type": "stream",
     "text": [
      "Train: Loss=0.8101 Batch_id=390 Accuracy=76.38: 100%|████████████████████████████████| 391/391 [00:36<00:00, 10.76it/s]\n"
     ]
    },
    {
     "name": "stdout",
     "output_type": "stream",
     "text": [
      "Test set: Average loss: 0.6254, Accuracy: 7982/10000 (79.82%)\n",
      "\n",
      "Epoch 46\n"
     ]
    },
    {
     "name": "stderr",
     "output_type": "stream",
     "text": [
      "Train: Loss=0.6128 Batch_id=390 Accuracy=76.19: 100%|████████████████████████████████| 391/391 [00:36<00:00, 10.78it/s]\n"
     ]
    },
    {
     "name": "stdout",
     "output_type": "stream",
     "text": [
      "Test set: Average loss: 0.5883, Accuracy: 8067/10000 (80.67%)\n",
      "\n",
      "Epoch 47\n"
     ]
    },
    {
     "name": "stderr",
     "output_type": "stream",
     "text": [
      "Train: Loss=0.6071 Batch_id=390 Accuracy=76.45: 100%|████████████████████████████████| 391/391 [00:36<00:00, 10.76it/s]\n"
     ]
    },
    {
     "name": "stdout",
     "output_type": "stream",
     "text": [
      "Test set: Average loss: 0.5636, Accuracy: 8174/10000 (81.74%)\n",
      "\n",
      "Epoch 48\n"
     ]
    },
    {
     "name": "stderr",
     "output_type": "stream",
     "text": [
      "Train: Loss=0.6922 Batch_id=390 Accuracy=76.78: 100%|████████████████████████████████| 391/391 [00:36<00:00, 10.68it/s]\n"
     ]
    },
    {
     "name": "stdout",
     "output_type": "stream",
     "text": [
      "Test set: Average loss: 0.6378, Accuracy: 7921/10000 (79.21%)\n",
      "\n",
      "Epoch 49\n"
     ]
    },
    {
     "name": "stderr",
     "output_type": "stream",
     "text": [
      "Train: Loss=0.7785 Batch_id=390 Accuracy=76.87: 100%|████████████████████████████████| 391/391 [00:36<00:00, 10.73it/s]\n"
     ]
    },
    {
     "name": "stdout",
     "output_type": "stream",
     "text": [
      "Test set: Average loss: 0.6308, Accuracy: 8000/10000 (80.00%)\n",
      "\n",
      "Epoch 50\n"
     ]
    },
    {
     "name": "stderr",
     "output_type": "stream",
     "text": [
      "Train: Loss=0.6263 Batch_id=390 Accuracy=76.97: 100%|████████████████████████████████| 391/391 [00:36<00:00, 10.77it/s]\n"
     ]
    },
    {
     "name": "stdout",
     "output_type": "stream",
     "text": [
      "Test set: Average loss: 0.5606, Accuracy: 8212/10000 (82.12%)\n",
      "\n",
      "Epoch 51\n"
     ]
    },
    {
     "name": "stderr",
     "output_type": "stream",
     "text": [
      "Train: Loss=0.4170 Batch_id=390 Accuracy=76.89: 100%|████████████████████████████████| 391/391 [00:36<00:00, 10.78it/s]\n"
     ]
    },
    {
     "name": "stdout",
     "output_type": "stream",
     "text": [
      "Test set: Average loss: 0.5655, Accuracy: 8181/10000 (81.81%)\n",
      "\n",
      "Epoch 52\n"
     ]
    },
    {
     "name": "stderr",
     "output_type": "stream",
     "text": [
      "Train: Loss=0.7073 Batch_id=390 Accuracy=77.06: 100%|████████████████████████████████| 391/391 [00:36<00:00, 10.79it/s]\n"
     ]
    },
    {
     "name": "stdout",
     "output_type": "stream",
     "text": [
      "Test set: Average loss: 0.5554, Accuracy: 8241/10000 (82.41%)\n",
      "\n",
      "Epoch 53\n"
     ]
    },
    {
     "name": "stderr",
     "output_type": "stream",
     "text": [
      "Train: Loss=0.4887 Batch_id=390 Accuracy=77.02: 100%|████████████████████████████████| 391/391 [00:36<00:00, 10.80it/s]\n"
     ]
    },
    {
     "name": "stdout",
     "output_type": "stream",
     "text": [
      "Test set: Average loss: 0.7176, Accuracy: 7863/10000 (78.63%)\n",
      "\n",
      "Epoch 54\n"
     ]
    },
    {
     "name": "stderr",
     "output_type": "stream",
     "text": [
      "Train: Loss=0.6538 Batch_id=390 Accuracy=77.10: 100%|████████████████████████████████| 391/391 [00:36<00:00, 10.76it/s]\n"
     ]
    },
    {
     "name": "stdout",
     "output_type": "stream",
     "text": [
      "Test set: Average loss: 0.5651, Accuracy: 8202/10000 (82.02%)\n",
      "\n",
      "Epoch 55\n"
     ]
    },
    {
     "name": "stderr",
     "output_type": "stream",
     "text": [
      "Train: Loss=0.8836 Batch_id=390 Accuracy=77.45: 100%|████████████████████████████████| 391/391 [00:36<00:00, 10.78it/s]\n"
     ]
    },
    {
     "name": "stdout",
     "output_type": "stream",
     "text": [
      "Test set: Average loss: 0.5788, Accuracy: 8152/10000 (81.52%)\n",
      "\n",
      "Epoch 56\n"
     ]
    },
    {
     "name": "stderr",
     "output_type": "stream",
     "text": [
      "Train: Loss=0.8408 Batch_id=390 Accuracy=77.49: 100%|████████████████████████████████| 391/391 [00:36<00:00, 10.73it/s]\n"
     ]
    },
    {
     "name": "stdout",
     "output_type": "stream",
     "text": [
      "Test set: Average loss: 0.6192, Accuracy: 8059/10000 (80.59%)\n",
      "\n",
      "Epoch 57\n"
     ]
    },
    {
     "name": "stderr",
     "output_type": "stream",
     "text": [
      "Train: Loss=0.5594 Batch_id=390 Accuracy=77.30: 100%|████████████████████████████████| 391/391 [00:36<00:00, 10.74it/s]\n"
     ]
    },
    {
     "name": "stdout",
     "output_type": "stream",
     "text": [
      "Test set: Average loss: 0.6010, Accuracy: 8097/10000 (80.97%)\n",
      "\n",
      "Epoch 58\n"
     ]
    },
    {
     "name": "stderr",
     "output_type": "stream",
     "text": [
      "Train: Loss=0.6303 Batch_id=390 Accuracy=77.49: 100%|████████████████████████████████| 391/391 [00:36<00:00, 10.82it/s]\n"
     ]
    },
    {
     "name": "stdout",
     "output_type": "stream",
     "text": [
      "Test set: Average loss: 0.4907, Accuracy: 8384/10000 (83.84%)\n",
      "\n",
      "Epoch 59\n"
     ]
    },
    {
     "name": "stderr",
     "output_type": "stream",
     "text": [
      "Train: Loss=0.5864 Batch_id=390 Accuracy=77.56: 100%|████████████████████████████████| 391/391 [00:36<00:00, 10.73it/s]\n"
     ]
    },
    {
     "name": "stdout",
     "output_type": "stream",
     "text": [
      "Test set: Average loss: 0.5540, Accuracy: 8208/10000 (82.08%)\n",
      "\n",
      "Epoch 60\n"
     ]
    },
    {
     "name": "stderr",
     "output_type": "stream",
     "text": [
      "Train: Loss=0.6310 Batch_id=390 Accuracy=77.82: 100%|████████████████████████████████| 391/391 [00:36<00:00, 10.71it/s]\n"
     ]
    },
    {
     "name": "stdout",
     "output_type": "stream",
     "text": [
      "Test set: Average loss: 0.5534, Accuracy: 8215/10000 (82.15%)\n",
      "\n",
      "Epoch 61\n"
     ]
    },
    {
     "name": "stderr",
     "output_type": "stream",
     "text": [
      "Train: Loss=0.8238 Batch_id=390 Accuracy=77.79: 100%|████████████████████████████████| 391/391 [00:36<00:00, 10.70it/s]\n"
     ]
    },
    {
     "name": "stdout",
     "output_type": "stream",
     "text": [
      "Test set: Average loss: 0.5805, Accuracy: 8145/10000 (81.45%)\n",
      "\n",
      "Epoch 62\n"
     ]
    },
    {
     "name": "stderr",
     "output_type": "stream",
     "text": [
      "Train: Loss=0.6651 Batch_id=390 Accuracy=77.77: 100%|████████████████████████████████| 391/391 [00:36<00:00, 10.61it/s]\n"
     ]
    },
    {
     "name": "stdout",
     "output_type": "stream",
     "text": [
      "Test set: Average loss: 0.5829, Accuracy: 8094/10000 (80.94%)\n",
      "\n",
      "Epoch 63\n"
     ]
    },
    {
     "name": "stderr",
     "output_type": "stream",
     "text": [
      "Train: Loss=0.5836 Batch_id=390 Accuracy=78.08: 100%|████████████████████████████████| 391/391 [00:36<00:00, 10.59it/s]\n"
     ]
    },
    {
     "name": "stdout",
     "output_type": "stream",
     "text": [
      "Test set: Average loss: 0.5081, Accuracy: 8365/10000 (83.65%)\n",
      "\n",
      "Epoch 64\n"
     ]
    },
    {
     "name": "stderr",
     "output_type": "stream",
     "text": [
      "Train: Loss=0.5803 Batch_id=390 Accuracy=78.10: 100%|████████████████████████████████| 391/391 [00:36<00:00, 10.73it/s]\n"
     ]
    },
    {
     "name": "stdout",
     "output_type": "stream",
     "text": [
      "Test set: Average loss: 0.6362, Accuracy: 8012/10000 (80.12%)\n",
      "\n",
      "Epoch 65\n"
     ]
    },
    {
     "name": "stderr",
     "output_type": "stream",
     "text": [
      "Train: Loss=0.6530 Batch_id=390 Accuracy=77.97: 100%|████████████████████████████████| 391/391 [00:36<00:00, 10.74it/s]\n"
     ]
    },
    {
     "name": "stdout",
     "output_type": "stream",
     "text": [
      "Test set: Average loss: 0.5938, Accuracy: 8153/10000 (81.53%)\n",
      "\n",
      "Epoch 66\n"
     ]
    },
    {
     "name": "stderr",
     "output_type": "stream",
     "text": [
      "Train: Loss=0.8265 Batch_id=390 Accuracy=78.05: 100%|████████████████████████████████| 391/391 [00:36<00:00, 10.78it/s]\n"
     ]
    },
    {
     "name": "stdout",
     "output_type": "stream",
     "text": [
      "Test set: Average loss: 0.5111, Accuracy: 8350/10000 (83.50%)\n",
      "\n",
      "Epoch 67\n"
     ]
    },
    {
     "name": "stderr",
     "output_type": "stream",
     "text": [
      "Train: Loss=0.5388 Batch_id=390 Accuracy=78.00: 100%|████████████████████████████████| 391/391 [00:36<00:00, 10.82it/s]\n"
     ]
    },
    {
     "name": "stdout",
     "output_type": "stream",
     "text": [
      "Test set: Average loss: 0.5229, Accuracy: 8295/10000 (82.95%)\n",
      "\n",
      "Epoch 68\n"
     ]
    },
    {
     "name": "stderr",
     "output_type": "stream",
     "text": [
      "Train: Loss=0.5906 Batch_id=390 Accuracy=78.14: 100%|████████████████████████████████| 391/391 [00:36<00:00, 10.76it/s]\n"
     ]
    },
    {
     "name": "stdout",
     "output_type": "stream",
     "text": [
      "Test set: Average loss: 0.5522, Accuracy: 8169/10000 (81.69%)\n",
      "\n",
      "Epoch 69\n"
     ]
    },
    {
     "name": "stderr",
     "output_type": "stream",
     "text": [
      "Train: Loss=0.7679 Batch_id=390 Accuracy=78.23: 100%|████████████████████████████████| 391/391 [00:36<00:00, 10.74it/s]\n"
     ]
    },
    {
     "name": "stdout",
     "output_type": "stream",
     "text": [
      "Test set: Average loss: 0.5703, Accuracy: 8214/10000 (82.14%)\n",
      "\n",
      "Epoch 70\n"
     ]
    },
    {
     "name": "stderr",
     "output_type": "stream",
     "text": [
      "Train: Loss=0.4078 Batch_id=390 Accuracy=78.33: 100%|████████████████████████████████| 391/391 [00:36<00:00, 10.80it/s]\n"
     ]
    },
    {
     "name": "stdout",
     "output_type": "stream",
     "text": [
      "Test set: Average loss: 0.4845, Accuracy: 8422/10000 (84.22%)\n",
      "\n",
      "Epoch 71\n"
     ]
    },
    {
     "name": "stderr",
     "output_type": "stream",
     "text": [
      "Train: Loss=0.6245 Batch_id=390 Accuracy=78.54: 100%|████████████████████████████████| 391/391 [00:36<00:00, 10.76it/s]\n"
     ]
    },
    {
     "name": "stdout",
     "output_type": "stream",
     "text": [
      "Test set: Average loss: 0.5141, Accuracy: 8312/10000 (83.12%)\n",
      "\n",
      "Epoch 72\n"
     ]
    },
    {
     "name": "stderr",
     "output_type": "stream",
     "text": [
      "Train: Loss=0.7475 Batch_id=390 Accuracy=78.30: 100%|████████████████████████████████| 391/391 [00:36<00:00, 10.74it/s]\n"
     ]
    },
    {
     "name": "stdout",
     "output_type": "stream",
     "text": [
      "Test set: Average loss: 0.5508, Accuracy: 8261/10000 (82.61%)\n",
      "\n",
      "Epoch 73\n"
     ]
    },
    {
     "name": "stderr",
     "output_type": "stream",
     "text": [
      "Train: Loss=0.7376 Batch_id=390 Accuracy=78.60: 100%|████████████████████████████████| 391/391 [00:36<00:00, 10.74it/s]\n"
     ]
    },
    {
     "name": "stdout",
     "output_type": "stream",
     "text": [
      "Test set: Average loss: 0.5085, Accuracy: 8339/10000 (83.39%)\n",
      "\n",
      "Epoch 74\n"
     ]
    },
    {
     "name": "stderr",
     "output_type": "stream",
     "text": [
      "Train: Loss=0.7510 Batch_id=390 Accuracy=78.68: 100%|████████████████████████████████| 391/391 [00:36<00:00, 10.68it/s]\n"
     ]
    },
    {
     "name": "stdout",
     "output_type": "stream",
     "text": [
      "Test set: Average loss: 0.5162, Accuracy: 8354/10000 (83.54%)\n",
      "\n",
      "Epoch 75\n"
     ]
    },
    {
     "name": "stderr",
     "output_type": "stream",
     "text": [
      "Train: Loss=0.6863 Batch_id=390 Accuracy=78.70: 100%|████████████████████████████████| 391/391 [00:36<00:00, 10.81it/s]\n"
     ]
    },
    {
     "name": "stdout",
     "output_type": "stream",
     "text": [
      "Test set: Average loss: 0.5584, Accuracy: 8263/10000 (82.63%)\n",
      "\n",
      "Epoch 76\n"
     ]
    },
    {
     "name": "stderr",
     "output_type": "stream",
     "text": [
      "Train: Loss=0.6715 Batch_id=390 Accuracy=78.80: 100%|████████████████████████████████| 391/391 [00:36<00:00, 10.71it/s]\n"
     ]
    },
    {
     "name": "stdout",
     "output_type": "stream",
     "text": [
      "Test set: Average loss: 0.5112, Accuracy: 8336/10000 (83.36%)\n",
      "\n",
      "Epoch 77\n"
     ]
    },
    {
     "name": "stderr",
     "output_type": "stream",
     "text": [
      "Train: Loss=0.5257 Batch_id=390 Accuracy=78.76: 100%|████████████████████████████████| 391/391 [00:36<00:00, 10.71it/s]\n"
     ]
    },
    {
     "name": "stdout",
     "output_type": "stream",
     "text": [
      "Test set: Average loss: 0.5116, Accuracy: 8356/10000 (83.56%)\n",
      "\n",
      "Epoch 78\n"
     ]
    },
    {
     "name": "stderr",
     "output_type": "stream",
     "text": [
      "Train: Loss=0.5264 Batch_id=390 Accuracy=78.70: 100%|████████████████████████████████| 391/391 [00:36<00:00, 10.74it/s]\n"
     ]
    },
    {
     "name": "stdout",
     "output_type": "stream",
     "text": [
      "Test set: Average loss: 0.5311, Accuracy: 8281/10000 (82.81%)\n",
      "\n",
      "Epoch 79\n"
     ]
    },
    {
     "name": "stderr",
     "output_type": "stream",
     "text": [
      "Train: Loss=0.5012 Batch_id=390 Accuracy=78.88: 100%|████████████████████████████████| 391/391 [00:36<00:00, 10.68it/s]\n"
     ]
    },
    {
     "name": "stdout",
     "output_type": "stream",
     "text": [
      "Test set: Average loss: 0.5816, Accuracy: 8179/10000 (81.79%)\n",
      "\n",
      "Epoch 80\n"
     ]
    },
    {
     "name": "stderr",
     "output_type": "stream",
     "text": [
      "Train: Loss=0.6355 Batch_id=390 Accuracy=78.90: 100%|████████████████████████████████| 391/391 [00:36<00:00, 10.72it/s]\n"
     ]
    },
    {
     "name": "stdout",
     "output_type": "stream",
     "text": [
      "Test set: Average loss: 0.5224, Accuracy: 8326/10000 (83.26%)\n",
      "\n"
     ]
    }
   ],
   "source": [
    "num_epochs = 80\n",
    "optimizer = optim.Adam(model.parameters(), lr=0.009)  # large learning rate\n",
    "scheduler = optim.lr_scheduler.OneCycleLR(optimizer, max_lr=0.1, epochs=num_epochs, steps_per_epoch=len(trainloader))\n",
    "\n",
    "trainer = trainer(model, device, optimizer, scheduler)\n",
    "for epoch in range(1, num_epochs + 1):\n",
    "    print(f\"Epoch {epoch}\")\n",
    "    trainer.train(trainloader)\n",
    "    trainer.test(testloader)\n",
    "    scheduler.step()"
   ]
  }
 ],
 "metadata": {
  "kernelspec": {
   "display_name": "Python 3 (ipykernel)",
   "language": "python",
   "name": "python3"
  },
  "language_info": {
   "codemirror_mode": {
    "name": "ipython",
    "version": 3
   },
   "file_extension": ".py",
   "mimetype": "text/x-python",
   "name": "python",
   "nbconvert_exporter": "python",
   "pygments_lexer": "ipython3",
   "version": "3.9.12"
  }
 },
 "nbformat": 4,
 "nbformat_minor": 5
}
