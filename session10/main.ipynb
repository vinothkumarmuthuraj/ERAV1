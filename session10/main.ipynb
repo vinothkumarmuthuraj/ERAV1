{
 "cells": [
  {
   "cell_type": "code",
   "execution_count": 8,
   "id": "f6ef9014",
   "metadata": {},
   "outputs": [],
   "source": [
    "import torch\n",
    "import torch.nn as nn\n",
    "import torch.nn.functional as F\n",
    "import torch.optim as optim\n",
    "from torchvision import datasets\n",
    "import matplotlib.pyplot as plt\n",
    "import torchvision\n",
    "from torchscan import summary"
   ]
  },
  {
   "cell_type": "code",
   "execution_count": 9,
   "id": "e25b7ddd",
   "metadata": {},
   "outputs": [],
   "source": [
    "from train import trainer\n",
    "from models import custom_resnet\n",
    "from augmentation import train_transforms, test_transforms\n",
    "from dataloader import dataloader, plot_sample_data"
   ]
  },
  {
   "cell_type": "code",
   "execution_count": 3,
   "id": "4d91c075",
   "metadata": {},
   "outputs": [
    {
     "name": "stdout",
     "output_type": "stream",
     "text": [
      "Files already downloaded and verified\n",
      "Files already downloaded and verified\n"
     ]
    }
   ],
   "source": [
    "data_path = r\"C:\\Users\\vmt8kor\\Desktop\\vinoth_documents\\vinoth_documents1\\python_files\\School_AI\\7th_July_2023\\data\"\n",
    "batch_size = 128\n",
    "\n",
    "trainloader,testloader, classes = dataloader(data_path, batch_size, train_transforms,test_transforms)"
   ]
  },
  {
   "cell_type": "code",
   "execution_count": null,
   "id": "3db9ce7b",
   "metadata": {},
   "outputs": [],
   "source": [
    "batch_data, batch_label = next(iter(testloader))\n",
    "plot_sample_data(testloader)"
   ]
  },
  {
   "cell_type": "code",
   "execution_count": 10,
   "id": "a6c1cf56",
   "metadata": {},
   "outputs": [],
   "source": [
    "device = torch.device('cuda:0' if torch.cuda.is_available() else 'cpu')\n",
    "model = custom_resnet().to(device)"
   ]
  },
  {
   "cell_type": "code",
   "execution_count": 11,
   "id": "8b62aa86",
   "metadata": {
    "scrolled": false
   },
   "outputs": [
    {
     "name": "stdout",
     "output_type": "stream",
     "text": [
      "____________________________________________________________________________________________________________\n",
      "Layer                        Type                  Output Shape              Param #         Receptive field\n",
      "============================================================================================================\n",
      "custom_resnet                custom_resnet         (-1, 10)                  0               88             \n",
      "├─prep_layer                 ConvBlock             (-1, 64, 32, 32)          0               88             \n",
      "|    └─conv1                 Conv2d                (-1, 64, 32, 32)          1,792           88             \n",
      "|    └─batch_norm1           BatchNorm2d           (-1, 64, 32, 32)          257             86             \n",
      "|    └─relu1                 ReLU                  (-1, 64, 32, 32)          0               86             \n",
      "|    └─dropout               Dropout               (-1, 64, 32, 32)          0               86             \n",
      "├─layer1                     MakeLayer             (-1, 128, 16, 16)         0               86             \n",
      "|    └─downsample_layer      DownsampleLayer       (-1, 128, 16, 16)         0               86             \n",
      "|    |    └─conv1            Conv2d                (-1, 128, 32, 32)         73,856          86             \n",
      "|    |    └─maxpool1         MaxPool2d             (-1, 128, 16, 16)         0               84             \n",
      "|    |    └─batch_norm1      BatchNorm2d           (-1, 128, 16, 16)         513             42             \n",
      "|    |    └─relu1            ReLU                  (-1, 128, 16, 16)         0               42             \n",
      "|    |    └─dropout          Dropout               (-1, 128, 16, 16)         0               42             \n",
      "|    └─residual_layer        ResidualBlock         (-1, 128, 16, 16)         0               42             \n",
      "|    |    └─conv_layer1      ConvBlock             (-1, 128, 16, 16)         0               42             \n",
      "|    |    |    └─conv1       Conv2d                (-1, 128, 16, 16)         147,584         42             \n",
      "|    |    |    └─batch_no    BatchNorm2d           (-1, 128, 16, 16)         513             40             \n",
      "|    |    |    └─relu1       ReLU                  (-1, 128, 16, 16)         0               40             \n",
      "|    |    |    └─dropout     Dropout               (-1, 128, 16, 16)         0               40             \n",
      "|    |    └─conv_layer2      ConvBlock             (-1, 128, 16, 16)         0               40             \n",
      "|    |    |    └─conv1       Conv2d                (-1, 128, 16, 16)         147,584         40             \n",
      "|    |    |    └─batch_no    BatchNorm2d           (-1, 128, 16, 16)         513             38             \n",
      "|    |    |    └─relu1       ReLU                  (-1, 128, 16, 16)         0               38             \n",
      "|    |    |    └─dropout     Dropout               (-1, 128, 16, 16)         0               38             \n",
      "├─layer2                     MakeLayer             (-1, 256, 8, 8)           0               38             \n",
      "|    └─downsample_layer      DownsampleLayer       (-1, 256, 8, 8)           0               38             \n",
      "|    |    └─conv1            Conv2d                (-1, 256, 16, 16)         295,168         38             \n",
      "|    |    └─maxpool1         MaxPool2d             (-1, 256, 8, 8)           0               36             \n",
      "|    |    └─batch_norm1      BatchNorm2d           (-1, 256, 8, 8)           1,025           18             \n",
      "|    |    └─relu1            ReLU                  (-1, 256, 8, 8)           0               18             \n",
      "|    |    └─dropout          Dropout               (-1, 256, 8, 8)           0               18             \n",
      "├─layer3                     MakeLayer             (-1, 512, 4, 4)           0               18             \n",
      "|    └─downsample_layer      DownsampleLayer       (-1, 512, 4, 4)           0               18             \n",
      "|    |    └─conv1            Conv2d                (-1, 512, 8, 8)           1,180,160       18             \n",
      "|    |    └─maxpool1         MaxPool2d             (-1, 512, 4, 4)           0               16             \n",
      "|    |    └─batch_norm1      BatchNorm2d           (-1, 512, 4, 4)           2,049           8              \n",
      "|    |    └─relu1            ReLU                  (-1, 512, 4, 4)           0               8              \n",
      "|    |    └─dropout          Dropout               (-1, 512, 4, 4)           0               8              \n",
      "|    └─residual_layer        ResidualBlock         (-1, 512, 4, 4)           0               8              \n",
      "|    |    └─conv_layer1      ConvBlock             (-1, 512, 4, 4)           0               8              \n",
      "|    |    |    └─conv1       Conv2d                (-1, 512, 4, 4)           2,359,808       8              \n",
      "|    |    |    └─batch_no    BatchNorm2d           (-1, 512, 4, 4)           2,049           6              \n",
      "|    |    |    └─relu1       ReLU                  (-1, 512, 4, 4)           0               6              \n",
      "|    |    |    └─dropout     Dropout               (-1, 512, 4, 4)           0               6              \n",
      "|    |    └─conv_layer2      ConvBlock             (-1, 512, 4, 4)           0               6              \n",
      "|    |    |    └─conv1       Conv2d                (-1, 512, 4, 4)           2,359,808       6              \n",
      "|    |    |    └─batch_no    BatchNorm2d           (-1, 512, 4, 4)           2,049           4              \n",
      "|    |    |    └─relu1       ReLU                  (-1, 512, 4, 4)           0               4              \n",
      "|    |    |    └─dropout     Dropout               (-1, 512, 4, 4)           0               4              \n",
      "├─maxpool                    MaxPool2d             (-1, 512, 1, 1)           0               4              \n",
      "├─fc                         Linear                (-1, 10)                  5,130           1              \n",
      "============================================================================================================\n",
      "Trainable params: 6,575,370\n",
      "Non-trainable params: 0\n",
      "Total params: 6,575,370\n",
      "------------------------------------------------------------------------------------------------------------\n",
      "Model size (params + buffers): 25.10 Mb\n",
      "Framework & CUDA overhead: -34.12 Mb\n",
      "Total RAM usage: -9.02 Mb\n",
      "------------------------------------------------------------------------------------------------------------\n",
      "Floating Point Operations on forward: 760.65 MFLOPs\n",
      "Multiply-Accumulations on forward: 380.35 MMACs\n",
      "Direct memory accesses on forward: 387.74 MDMAs\n",
      "____________________________________________________________________________________________________________\n",
      "\n"
     ]
    }
   ],
   "source": [
    "summary(model, (3, 32, 32), receptive_field=True, max_depth=4)"
   ]
  },
  {
   "cell_type": "code",
   "execution_count": 5,
   "id": "363b8c5d",
   "metadata": {},
   "outputs": [
    {
     "name": "stderr",
     "output_type": "stream",
     "text": [
      "100%|████████████████████████████████████████████████████████████████████████████████| 391/391 [00:40<00:00,  9.77it/s]\n"
     ]
    },
    {
     "name": "stdout",
     "output_type": "stream",
     "text": [
      "Learning rate search finished. See the graph with {finder_name}.plot()\n",
      "LR suggestion: steepest gradient\n",
      "Suggested LR: 3.25E-02\n"
     ]
    },
    {
     "data": {
      "image/png": "[encoded data removed]",
      "text/plain": [
       "<Figure size 640x480 with 1 Axes>"
      ]
     },
     "metadata": {},
     "output_type": "display_data"
    }
   ],
   "source": [
    "from torch_lr_finder import LRFinder\n",
    "criterion = nn.CrossEntropyLoss()\n",
    "optimizer = optim.Adam(model.parameters(), lr=0.03, weight_decay=0.001)\n",
    "lr_finder = LRFinder(model, optimizer, criterion, device=\"cuda\")\n",
    "lr_finder.range_test(trainloader, end_lr=0.1, num_iter=391)\n",
    "lr_finder.plot() # to inspect the loss-learning rate graph\n",
    "lr_finder.reset() # to reset the model and optimizer to their initial state"
   ]
  },
  {
   "cell_type": "code",
   "execution_count": 6,
   "id": "5634fa2d",
   "metadata": {
    "scrolled": false
   },
   "outputs": [
    {
     "name": "stdout",
     "output_type": "stream",
     "text": [
      "Epoch 1\n"
     ]
    },
    {
     "name": "stderr",
     "output_type": "stream",
     "text": [
      "Train: Loss=1.1667 Batch_id=390 Accuracy=43.41: 100%|████████████████████████████████| 391/391 [00:41<00:00,  9.53it/s]\n"
     ]
    },
    {
     "name": "stdout",
     "output_type": "stream",
     "text": [
      "Test set: Average loss: 1.0725, Accuracy: 6173/10000 (61.73%)\n",
      "\n",
      "Epoch 2\n"
     ]
    },
    {
     "name": "stderr",
     "output_type": "stream",
     "text": [
      "Train: Loss=0.7572 Batch_id=390 Accuracy=63.46: 100%|████████████████████████████████| 391/391 [00:45<00:00,  8.55it/s]\n"
     ]
    },
    {
     "name": "stdout",
     "output_type": "stream",
     "text": [
      "Test set: Average loss: 0.7458, Accuracy: 7359/10000 (73.59%)\n",
      "\n",
      "Epoch 3\n"
     ]
    },
    {
     "name": "stderr",
     "output_type": "stream",
     "text": [
      "Train: Loss=0.7946 Batch_id=390 Accuracy=71.47: 100%|████████████████████████████████| 391/391 [00:46<00:00,  8.34it/s]\n"
     ]
    },
    {
     "name": "stdout",
     "output_type": "stream",
     "text": [
      "Test set: Average loss: 0.6491, Accuracy: 7814/10000 (78.14%)\n",
      "\n",
      "Epoch 4\n"
     ]
    },
    {
     "name": "stderr",
     "output_type": "stream",
     "text": [
      "Train: Loss=0.6364 Batch_id=390 Accuracy=75.39: 100%|████████████████████████████████| 391/391 [00:47<00:00,  8.19it/s]\n"
     ]
    },
    {
     "name": "stdout",
     "output_type": "stream",
     "text": [
      "Test set: Average loss: 0.5757, Accuracy: 8041/10000 (80.41%)\n",
      "\n",
      "Epoch 5\n"
     ]
    },
    {
     "name": "stderr",
     "output_type": "stream",
     "text": [
      "Train: Loss=0.5190 Batch_id=390 Accuracy=78.05: 100%|████████████████████████████████| 391/391 [00:47<00:00,  8.30it/s]\n"
     ]
    },
    {
     "name": "stdout",
     "output_type": "stream",
     "text": [
      "Test set: Average loss: 0.5268, Accuracy: 8228/10000 (82.28%)\n",
      "\n",
      "Epoch 6\n"
     ]
    },
    {
     "name": "stderr",
     "output_type": "stream",
     "text": [
      "Train: Loss=0.5333 Batch_id=390 Accuracy=80.35: 100%|████████████████████████████████| 391/391 [00:44<00:00,  8.79it/s]\n"
     ]
    },
    {
     "name": "stdout",
     "output_type": "stream",
     "text": [
      "Test set: Average loss: 0.4911, Accuracy: 8417/10000 (84.17%)\n",
      "\n",
      "Epoch 7\n"
     ]
    },
    {
     "name": "stderr",
     "output_type": "stream",
     "text": [
      "Train: Loss=0.6337 Batch_id=390 Accuracy=81.81: 100%|████████████████████████████████| 391/391 [00:44<00:00,  8.83it/s]\n"
     ]
    },
    {
     "name": "stdout",
     "output_type": "stream",
     "text": [
      "Test set: Average loss: 0.4009, Accuracy: 8635/10000 (86.35%)\n",
      "\n",
      "Epoch 8\n"
     ]
    },
    {
     "name": "stderr",
     "output_type": "stream",
     "text": [
      "Train: Loss=0.7593 Batch_id=390 Accuracy=83.30: 100%|████████████████████████████████| 391/391 [00:44<00:00,  8.83it/s]\n"
     ]
    },
    {
     "name": "stdout",
     "output_type": "stream",
     "text": [
      "Test set: Average loss: 0.4117, Accuracy: 8614/10000 (86.14%)\n",
      "\n",
      "Epoch 9\n"
     ]
    },
    {
     "name": "stderr",
     "output_type": "stream",
     "text": [
      "Train: Loss=0.5892 Batch_id=390 Accuracy=84.26: 100%|████████████████████████████████| 391/391 [00:43<00:00,  8.89it/s]\n"
     ]
    },
    {
     "name": "stdout",
     "output_type": "stream",
     "text": [
      "Test set: Average loss: 0.3794, Accuracy: 8732/10000 (87.32%)\n",
      "\n",
      "Epoch 10\n"
     ]
    },
    {
     "name": "stderr",
     "output_type": "stream",
     "text": [
      "Train: Loss=0.4276 Batch_id=390 Accuracy=85.11: 100%|████████████████████████████████| 391/391 [00:44<00:00,  8.70it/s]\n"
     ]
    },
    {
     "name": "stdout",
     "output_type": "stream",
     "text": [
      "Test set: Average loss: 0.3959, Accuracy: 8728/10000 (87.28%)\n",
      "\n",
      "Epoch 11\n"
     ]
    },
    {
     "name": "stderr",
     "output_type": "stream",
     "text": [
      "Train: Loss=0.5018 Batch_id=390 Accuracy=86.13: 100%|████████████████████████████████| 391/391 [00:44<00:00,  8.84it/s]\n"
     ]
    },
    {
     "name": "stdout",
     "output_type": "stream",
     "text": [
      "Test set: Average loss: 0.3670, Accuracy: 8769/10000 (87.69%)\n",
      "\n",
      "Epoch 12\n"
     ]
    },
    {
     "name": "stderr",
     "output_type": "stream",
     "text": [
      "Train: Loss=0.4050 Batch_id=390 Accuracy=86.72: 100%|████████████████████████████████| 391/391 [00:44<00:00,  8.87it/s]\n"
     ]
    },
    {
     "name": "stdout",
     "output_type": "stream",
     "text": [
      "Test set: Average loss: 0.3711, Accuracy: 8766/10000 (87.66%)\n",
      "\n",
      "Epoch 13\n"
     ]
    },
    {
     "name": "stderr",
     "output_type": "stream",
     "text": [
      "Train: Loss=0.2785 Batch_id=390 Accuracy=87.27: 100%|████████████████████████████████| 391/391 [00:43<00:00,  8.98it/s]\n"
     ]
    },
    {
     "name": "stdout",
     "output_type": "stream",
     "text": [
      "Test set: Average loss: 0.3189, Accuracy: 8919/10000 (89.19%)\n",
      "\n",
      "Epoch 14\n"
     ]
    },
    {
     "name": "stderr",
     "output_type": "stream",
     "text": [
      "Train: Loss=0.2791 Batch_id=390 Accuracy=88.13: 100%|████████████████████████████████| 391/391 [00:44<00:00,  8.75it/s]\n"
     ]
    },
    {
     "name": "stdout",
     "output_type": "stream",
     "text": [
      "Test set: Average loss: 0.3124, Accuracy: 8972/10000 (89.72%)\n",
      "\n",
      "Epoch 15\n"
     ]
    },
    {
     "name": "stderr",
     "output_type": "stream",
     "text": [
      "Train: Loss=0.3092 Batch_id=390 Accuracy=88.33: 100%|████████████████████████████████| 391/391 [00:44<00:00,  8.82it/s]\n"
     ]
    },
    {
     "name": "stdout",
     "output_type": "stream",
     "text": [
      "Test set: Average loss: 0.3107, Accuracy: 8989/10000 (89.89%)\n",
      "\n",
      "Epoch 16\n"
     ]
    },
    {
     "name": "stderr",
     "output_type": "stream",
     "text": [
      "Train: Loss=0.3831 Batch_id=390 Accuracy=88.96: 100%|████████████████████████████████| 391/391 [00:43<00:00,  8.90it/s]\n"
     ]
    },
    {
     "name": "stdout",
     "output_type": "stream",
     "text": [
      "Test set: Average loss: 0.3081, Accuracy: 8982/10000 (89.82%)\n",
      "\n",
      "Epoch 17\n"
     ]
    },
    {
     "name": "stderr",
     "output_type": "stream",
     "text": [
      "Train: Loss=0.3403 Batch_id=390 Accuracy=89.51: 100%|████████████████████████████████| 391/391 [00:43<00:00,  8.90it/s]\n"
     ]
    },
    {
     "name": "stdout",
     "output_type": "stream",
     "text": [
      "Test set: Average loss: 0.3347, Accuracy: 8961/10000 (89.61%)\n",
      "\n",
      "Epoch 18\n"
     ]
    },
    {
     "name": "stderr",
     "output_type": "stream",
     "text": [
      "Train: Loss=0.3079 Batch_id=390 Accuracy=89.89: 100%|████████████████████████████████| 391/391 [00:44<00:00,  8.86it/s]\n"
     ]
    },
    {
     "name": "stdout",
     "output_type": "stream",
     "text": [
      "Test set: Average loss: 0.3280, Accuracy: 8999/10000 (89.99%)\n",
      "\n",
      "Epoch 19\n"
     ]
    },
    {
     "name": "stderr",
     "output_type": "stream",
     "text": [
      "Train: Loss=0.3785 Batch_id=390 Accuracy=90.60: 100%|████████████████████████████████| 391/391 [00:44<00:00,  8.81it/s]\n"
     ]
    },
    {
     "name": "stdout",
     "output_type": "stream",
     "text": [
      "Test set: Average loss: 0.3132, Accuracy: 9041/10000 (90.41%)\n",
      "\n",
      "Epoch 20\n"
     ]
    },
    {
     "name": "stderr",
     "output_type": "stream",
     "text": [
      "Train: Loss=0.2549 Batch_id=390 Accuracy=90.73: 100%|████████████████████████████████| 391/391 [00:44<00:00,  8.85it/s]\n"
     ]
    },
    {
     "name": "stdout",
     "output_type": "stream",
     "text": [
      "Test set: Average loss: 0.3396, Accuracy: 8955/10000 (89.55%)\n",
      "\n",
      "Epoch 21\n"
     ]
    },
    {
     "name": "stderr",
     "output_type": "stream",
     "text": [
      "Train: Loss=0.2167 Batch_id=390 Accuracy=90.97: 100%|████████████████████████████████| 391/391 [00:44<00:00,  8.81it/s]\n"
     ]
    },
    {
     "name": "stdout",
     "output_type": "stream",
     "text": [
      "Test set: Average loss: 0.3034, Accuracy: 9048/10000 (90.48%)\n",
      "\n",
      "Epoch 22\n"
     ]
    },
    {
     "name": "stderr",
     "output_type": "stream",
     "text": [
      "Train: Loss=0.2877 Batch_id=390 Accuracy=91.35: 100%|████████████████████████████████| 391/391 [00:44<00:00,  8.86it/s]\n"
     ]
    },
    {
     "name": "stdout",
     "output_type": "stream",
     "text": [
      "Test set: Average loss: 0.3190, Accuracy: 9017/10000 (90.17%)\n",
      "\n",
      "Epoch 23\n"
     ]
    },
    {
     "name": "stderr",
     "output_type": "stream",
     "text": [
      "Train: Loss=0.1594 Batch_id=390 Accuracy=91.55: 100%|████████████████████████████████| 391/391 [00:44<00:00,  8.69it/s]\n"
     ]
    },
    {
     "name": "stdout",
     "output_type": "stream",
     "text": [
      "Test set: Average loss: 0.3406, Accuracy: 8967/10000 (89.67%)\n",
      "\n",
      "Epoch 24\n"
     ]
    },
    {
     "name": "stderr",
     "output_type": "stream",
     "text": [
      "Train: Loss=0.2616 Batch_id=390 Accuracy=91.81: 100%|████████████████████████████████| 391/391 [00:45<00:00,  8.54it/s]\n"
     ]
    },
    {
     "name": "stdout",
     "output_type": "stream",
     "text": [
      "Test set: Average loss: 0.3048, Accuracy: 9095/10000 (90.95%)\n",
      "\n"
     ]
    }
   ],
   "source": [
    "num_epochs = 24\n",
    "optimizer = optim.Adam(model.parameters(), lr=0.03)  # large learning rate\n",
    "scheduler = optim.lr_scheduler.OneCycleLR(optimizer, max_lr=3.25E-02, epochs=num_epochs, steps_per_epoch=len(trainloader),\n",
    "                                         pct_start = 5/num_epochs,three_phase=False)\n",
    "\n",
    "trainer = trainer(model, device, optimizer, scheduler)\n",
    "for epoch in range(1, num_epochs + 1):\n",
    "    print(f\"Epoch {epoch}\")\n",
    "    trainer.train(trainloader)\n",
    "    trainer.test(testloader)\n",
    "    scheduler.step()"
   ]
  },
  {
   "cell_type": "code",
   "execution_count": 8,
   "id": "a5f20a95",
   "metadata": {},
   "outputs": [],
   "source": [
    "model_save_path = r\"C:\\Users\\vmt8kor\\Desktop\\vinoth_documents\\vinoth_documents1\\python_files\\School_AI\\7th_July_2023\\model\\custom_resnet.pth\"\n",
    "torch.save(model,model_save_path)"
   ]
  }
 ],
 "metadata": {
  "kernelspec": {
   "display_name": "Python 3 (ipykernel)",
   "language": "python",
   "name": "python3"
  },
  "language_info": {
   "codemirror_mode": {
    "name": "ipython",
    "version": 3
   },
   "file_extension": ".py",
   "mimetype": "text/x-python",
   "name": "python",
   "nbconvert_exporter": "python",
   "pygments_lexer": "ipython3",
   "version": "3.11.3"
  }
 },
 "nbformat": 4,
 "nbformat_minor": 5
}
